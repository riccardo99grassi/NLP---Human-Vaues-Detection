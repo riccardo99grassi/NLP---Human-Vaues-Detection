{
  "cells": [
    {
      "cell_type": "markdown",
      "metadata": {
        "id": "bRcn_0DKmFSN"
      },
      "source": [
        "# Fine Tuning Transformers for identification of Human Values behind Arguments"
      ]
    },
    {
      "cell_type": "markdown",
      "source": [
        "### Introduction\n",
        "\n",
        "In this notebook we will be fine tuning different transformer models\n",
        "for the **detection of human values** given a specifc argument. It consists of a **Multilabel text classification** problem where a given piece of text needs to be classified into one or more categories out of the given list. For example, as in this case, a given argument can be categorized into 1 or more human values.\n",
        "\n",
        "#### Flow of the notebook\n",
        "\n",
        "The notebook will be divided into seperate sections to provide a organized walk through for the process used. The sections are:\n",
        "\n",
        "1. [Importing Python Libraries and preparing the environment](#section01)\n",
        "2. [Importing and Pre-Processing the domain data](#section02)\n",
        "3. [Preparing the Dataset and Dataloader](#section03)\n",
        "4. [Creating the Neural Network for Fine Tuning](#section04)\n",
        "5. [Fine Tuning the Model](#section05)\n",
        "6. [Validating the Model Performance](#section06)\n",
        "7. [Evaluating the best model](#section07)\n",
        "8. [Choosing the best threshold](#section08)\n",
        "9. [Results](#section09)\n",
        "\n",
        "#### Technical Details\n",
        "\n",
        " - Data: \n",
        "\t - We are using the data available on [Zenodo](https://zenodo.org/record/7550385#.Y8wMquzMK3I)\n",
        "     - [Human Value Detection 2023](https://touche.webis.de/semeval23/touche23-web/index.html) is the competion which provide the souce dataset\n",
        "\t - We are referring only to the following data: `arguments-training.tsv`, `arguments-validation`, `labels-training.tsv`, `labels-validation.tsv`\n",
        "\t \n",
        "     - `arguments-<split>.tsv`: Each row corresponds to one argument\n",
        "        - `Argument ID`: The unique identifier for the argument\n",
        "        - `Conclusion`: Conclusion text of the argument\n",
        "        - `Stance`: Stance of the Premise towards the Conclusion; one of \"in favor of\", \"against\"\n",
        "        - `Premise`: Premise text of the argument\n",
        "\n",
        "     - `labels-<split>.tsv`: Each row corresponds to one argument\n",
        "        - `Argument ID`: The unique identifier for the argument\n",
        "        - `Other`: Each other column corresponds to one value category, with a 1 meaning that the argument resorts to the value category and a 0 that not\n",
        "---\n",
        "***NOTE***\n",
        "- *Since test data are provided without labels, we did not consider them for our analysis. In this regards **the performances of our models have been tested only on validation data**.*\n",
        "---\n",
        "  \n",
        " - Language Model Used:\n",
        "\t - BERT BASE\n",
        "     - BERT LARGE\n",
        "     - ROBERTA BASE\n",
        "     - ROBERTA LARGE\n",
        "     - DISTILBERT\n",
        "---\n",
        "***NOTE***\n",
        "\n",
        "- Auto Models\n",
        "    - As explained by [Hugging Face doc](https://huggingface.co/transformers/v3.0.2/model_doc/auto.html), in many cases, the architecture we want to use can be guessed from the name or the path of the pretrained model we are supplying to the `from_pretrained` method.\n",
        "    AutoClasses are here to do this job for us so that we automatically retrieve the relevant model given the name/path to the pretrained weights/config/vocabulary:\n",
        "        - Instantiating one of `AutoModel` and `AutoTokenizer` will directly create a class of the relevant architecture \n",
        "(ex: model = AutoModel.from_pretrained('bert-base-cased') will create a instance of BertModel).\n",
        "---\n",
        "\n",
        " - Hardware Requirements:\n",
        "\t - Python 3.6 and above\n",
        "\t - Pytorch, Transformers and All the stock Python ML Libraries\n",
        "\t - GPU enabled setup \n",
        "\n",
        "\n",
        " - Script Objective:\n",
        "\t - Fine tuning of different transformer models such that: given a textual argument, classify whether or not the argument draws on one of the following categories:\n",
        "        * Self-direction: thought      \n",
        "        * Self-direction: action       \n",
        "        * Stimulation     \n",
        "        * Hedonism       \n",
        "        * Achievement      \n",
        "        * Power: dominance       \n",
        "        * Power: resources       \n",
        "        * Face       \n",
        "        * Security: personal      \n",
        "        * Security: societal      \n",
        "        * Tradition       \n",
        "        * Conformity: rules       \n",
        "        * Conformity: interpersonal       \n",
        "        * Humility       \n",
        "        * Benevolence: caring       \n",
        "        * Benevolence: dependability      \n",
        "        * Universalism: concern       \n",
        "        * Universalism: nature       \n",
        "        * Universalism: tolerance      \n",
        "        * Universalism: objectivity       \n",
        "\n",
        "---\n",
        "***NOTE***\n",
        "- *It is to be noted that the overall mechanisms for a multiclass and multilabel problems are similar, except for few differences namely:*\n",
        "\t- *Loss function is designed to evaluate all the probability of categories individually rather than as compared to other categories. Hence the use of `BCE` rather than `Cross Entropy` when defining loss.*\n",
        "\t- *Sigmoid of the outputs calcuated to rather than Softmax. Again for the reasons defined in the previous point*\n",
        "\t- *The [accuracy metrics](https://scikit-learn.org/stable/modules/generated/sklearn.metrics.accuracy_score.html) and [F1 scores](https://scikit-learn.org/stable/modules/generated/sklearn.metrics.f1_score.html#sklearn.metrics.f1_score) used from sklearn package as compared to direct comparison of expected vs predicted*\n",
        "---"
      ],
      "metadata": {
        "id": "2607wHvlBE7a"
      }
    },
    {
      "cell_type": "markdown",
      "source": [
        "<a id='section01'></a>\n",
        "### Importing Python Libraries and preparing the environment\n",
        "\n",
        "At this step we will be importing the libraries and modules needed to run our script. Libraries are:\n",
        "* Numpy\n",
        "* Pandas\n",
        "* Pytorch\n",
        "* Pytorch Utils for Dataset and Dataloader\n",
        "* Transformers\n",
        "* AutoModel and AutoTokenizer\n",
        "\n",
        "Followed by that we will preapre the device for GPU execeution. This configuration is needed if you want to leverage on onboard GPU.\n",
        "\n",
        "RANDOM SEED has been settled to 42 to ensure experiments reproducibility."
      ],
      "metadata": {
        "id": "A71JDmR2NbKv"
      }
    },
    {
      "cell_type": "code",
      "execution_count": 1,
      "metadata": {
        "id": "WD_vnyLXZQzD"
      },
      "outputs": [],
      "source": [
        "# Installing the transformers library and additional libraries if looking process \n",
        "!pip install -q transformers"
      ]
    },
    {
      "cell_type": "code",
      "execution_count": 2,
      "metadata": {
        "id": "pzM1_ykHaFur"
      },
      "outputs": [],
      "source": [
        "# Importing stock ml libraries\n",
        "import numpy as np\n",
        "import pandas as pd\n",
        "from sklearn import metrics\n",
        "import transformers\n",
        "import torch\n",
        "from torch.utils.data import Dataset, DataLoader, RandomSampler, SequentialSampler\n",
        "from transformers import AutoModel, AutoTokenizer\n",
        "from sklearn.metrics import classification_report, accuracy_score, f1_score"
      ]
    },
    {
      "cell_type": "code",
      "source": [
        "from google.colab import drive\n",
        "drive.mount('/content/drive')"
      ],
      "metadata": {
        "colab": {
          "base_uri": "https://localhost:8080/"
        },
        "id": "YLIVC5sCIC39",
        "outputId": "f4dcb098-a0e1-4f44-88fd-432adc156e05"
      },
      "execution_count": 3,
      "outputs": [
        {
          "output_type": "stream",
          "name": "stdout",
          "text": [
            "Drive already mounted at /content/drive; to attempt to forcibly remount, call drive.mount(\"/content/drive\", force_remount=True).\n"
          ]
        }
      ]
    },
    {
      "cell_type": "code",
      "source": [
        "best_weights_bert_base = 'drive/MyDrive/Pesi_NLP/bert_base.pth'\n",
        "best_weights_bert_large = 'drive/MyDrive/Pesi_NLP/bert_large.pth'\n",
        "best_weights_roberta_base = 'drive/MyDrive/Pesi_NLP/roberta-base.pth'\n",
        "best_weights_roberta_large = 'drive/MyDrive/Pesi_NLP/roberta_large.pth'\n",
        "best_weights_distilbert = 'drive/MyDrive/weights_distilbert-base-uncased.pth'"
      ],
      "metadata": {
        "id": "ZDGGOzSQIUI6"
      },
      "execution_count": 4,
      "outputs": []
    },
    {
      "cell_type": "code",
      "source": [
        "# Random seed to repeat experiments.\n",
        "RANDOM_SEED = 42\n",
        "np.random.seed(RANDOM_SEED)\n",
        "torch.manual_seed(RANDOM_SEED)"
      ],
      "metadata": {
        "colab": {
          "base_uri": "https://localhost:8080/"
        },
        "id": "qAU42Itr7vP1",
        "outputId": "10b25449-055b-49c3-d3b2-dd3834c457e4"
      },
      "execution_count": 5,
      "outputs": [
        {
          "output_type": "execute_result",
          "data": {
            "text/plain": [
              "<torch._C.Generator at 0x7f8377bb02d0>"
            ]
          },
          "metadata": {},
          "execution_count": 5
        }
      ]
    },
    {
      "cell_type": "code",
      "execution_count": 6,
      "metadata": {
        "id": "NLxxwd1scQNv",
        "colab": {
          "base_uri": "https://localhost:8080/"
        },
        "outputId": "4f9ed811-a2b8-4a57-9bf8-5d04b91e21f2"
      },
      "outputs": [
        {
          "output_type": "stream",
          "name": "stdout",
          "text": [
            "Using cuda.\n"
          ]
        }
      ],
      "source": [
        "# # Setting up the device for GPU usage\n",
        "\n",
        "from torch import cuda\n",
        "device = 'cuda' if cuda.is_available() else 'cpu'\n",
        "print(f'Using {device}.')"
      ]
    },
    {
      "cell_type": "markdown",
      "source": [
        "<a id='section02'></a>\n",
        "### Importing and Pre-Processing the domain data\n",
        "\n",
        "We will be working with the data and preparing for fine tuning purposes, *assuming that the `arguments-train.tsv`, `labels-train.tsv`, `arguments-validation.tsv`, `labels-validation.tsv` are already downloaded and saved in our `data` folder*\n",
        "\n",
        "* Import files in different dataframes\n",
        "* Merge arguments and labels dataframe of each corresponding split \n",
        "* Taking the values of all the categories and coverting it into a list.\n",
        "* The list is appened as a new column and other columns are removed"
      ],
      "metadata": {
        "id": "7HvSHQjiOlD8"
      }
    },
    {
      "cell_type": "code",
      "execution_count": 7,
      "metadata": {
        "id": "mZ7lTlkyaG7u"
      },
      "outputs": [],
      "source": [
        "args_train = pd.read_csv(\"arguments-training.tsv\", delimiter='\\t')\n",
        "labels_train = pd.read_csv(\"labels-training.tsv\", delimiter='\\t')"
      ]
    },
    {
      "cell_type": "code",
      "source": [
        "df = args_train.merge(labels_train)\n",
        "df['list'] = df[df.columns[4:]].values.tolist()\n",
        "df['text'] = df.Conclusion+\" \"+df.Stance+\" \"+df.Premise\n",
        "df_train = df[['text', 'list']].copy()\n",
        "df_train.head()"
      ],
      "metadata": {
        "colab": {
          "base_uri": "https://localhost:8080/",
          "height": 206
        },
        "id": "o8vQuBfEuBiE",
        "outputId": "b6177994-5b7e-4ce0-f028-fee9815bf48f"
      },
      "execution_count": 8,
      "outputs": [
        {
          "output_type": "execute_result",
          "data": {
            "text/plain": [
              "                                                text  \\\n",
              "0  We should ban human cloning in favor of we sho...   \n",
              "1  We should ban fast food in favor of fast food ...   \n",
              "2  We should end the use of economic sanctions ag...   \n",
              "3  We should abolish capital punishment against c...   \n",
              "4  We should ban factory farming against factory ...   \n",
              "\n",
              "                                                list  \n",
              "0  [0, 0, 0, 0, 0, 0, 0, 0, 0, 1, 0, 0, 0, 0, 0, ...  \n",
              "1  [0, 0, 0, 0, 0, 0, 0, 0, 1, 0, 0, 0, 0, 0, 0, ...  \n",
              "2  [0, 0, 0, 0, 0, 1, 0, 0, 0, 1, 0, 0, 0, 0, 0, ...  \n",
              "3  [0, 0, 0, 0, 0, 0, 0, 0, 0, 1, 0, 1, 0, 0, 0, ...  \n",
              "4  [0, 0, 0, 0, 0, 0, 0, 0, 1, 0, 0, 0, 0, 0, 1, ...  "
            ],
            "text/html": [
              "\n",
              "  <div id=\"df-cceaf64d-3988-470b-bd7d-d0a94db6c9bc\">\n",
              "    <div class=\"colab-df-container\">\n",
              "      <div>\n",
              "<style scoped>\n",
              "    .dataframe tbody tr th:only-of-type {\n",
              "        vertical-align: middle;\n",
              "    }\n",
              "\n",
              "    .dataframe tbody tr th {\n",
              "        vertical-align: top;\n",
              "    }\n",
              "\n",
              "    .dataframe thead th {\n",
              "        text-align: right;\n",
              "    }\n",
              "</style>\n",
              "<table border=\"1\" class=\"dataframe\">\n",
              "  <thead>\n",
              "    <tr style=\"text-align: right;\">\n",
              "      <th></th>\n",
              "      <th>text</th>\n",
              "      <th>list</th>\n",
              "    </tr>\n",
              "  </thead>\n",
              "  <tbody>\n",
              "    <tr>\n",
              "      <th>0</th>\n",
              "      <td>We should ban human cloning in favor of we sho...</td>\n",
              "      <td>[0, 0, 0, 0, 0, 0, 0, 0, 0, 1, 0, 0, 0, 0, 0, ...</td>\n",
              "    </tr>\n",
              "    <tr>\n",
              "      <th>1</th>\n",
              "      <td>We should ban fast food in favor of fast food ...</td>\n",
              "      <td>[0, 0, 0, 0, 0, 0, 0, 0, 1, 0, 0, 0, 0, 0, 0, ...</td>\n",
              "    </tr>\n",
              "    <tr>\n",
              "      <th>2</th>\n",
              "      <td>We should end the use of economic sanctions ag...</td>\n",
              "      <td>[0, 0, 0, 0, 0, 1, 0, 0, 0, 1, 0, 0, 0, 0, 0, ...</td>\n",
              "    </tr>\n",
              "    <tr>\n",
              "      <th>3</th>\n",
              "      <td>We should abolish capital punishment against c...</td>\n",
              "      <td>[0, 0, 0, 0, 0, 0, 0, 0, 0, 1, 0, 1, 0, 0, 0, ...</td>\n",
              "    </tr>\n",
              "    <tr>\n",
              "      <th>4</th>\n",
              "      <td>We should ban factory farming against factory ...</td>\n",
              "      <td>[0, 0, 0, 0, 0, 0, 0, 0, 1, 0, 0, 0, 0, 0, 1, ...</td>\n",
              "    </tr>\n",
              "  </tbody>\n",
              "</table>\n",
              "</div>\n",
              "      <button class=\"colab-df-convert\" onclick=\"convertToInteractive('df-cceaf64d-3988-470b-bd7d-d0a94db6c9bc')\"\n",
              "              title=\"Convert this dataframe to an interactive table.\"\n",
              "              style=\"display:none;\">\n",
              "        \n",
              "  <svg xmlns=\"http://www.w3.org/2000/svg\" height=\"24px\"viewBox=\"0 0 24 24\"\n",
              "       width=\"24px\">\n",
              "    <path d=\"M0 0h24v24H0V0z\" fill=\"none\"/>\n",
              "    <path d=\"M18.56 5.44l.94 2.06.94-2.06 2.06-.94-2.06-.94-.94-2.06-.94 2.06-2.06.94zm-11 1L8.5 8.5l.94-2.06 2.06-.94-2.06-.94L8.5 2.5l-.94 2.06-2.06.94zm10 10l.94 2.06.94-2.06 2.06-.94-2.06-.94-.94-2.06-.94 2.06-2.06.94z\"/><path d=\"M17.41 7.96l-1.37-1.37c-.4-.4-.92-.59-1.43-.59-.52 0-1.04.2-1.43.59L10.3 9.45l-7.72 7.72c-.78.78-.78 2.05 0 2.83L4 21.41c.39.39.9.59 1.41.59.51 0 1.02-.2 1.41-.59l7.78-7.78 2.81-2.81c.8-.78.8-2.07 0-2.86zM5.41 20L4 18.59l7.72-7.72 1.47 1.35L5.41 20z\"/>\n",
              "  </svg>\n",
              "      </button>\n",
              "      \n",
              "  <style>\n",
              "    .colab-df-container {\n",
              "      display:flex;\n",
              "      flex-wrap:wrap;\n",
              "      gap: 12px;\n",
              "    }\n",
              "\n",
              "    .colab-df-convert {\n",
              "      background-color: #E8F0FE;\n",
              "      border: none;\n",
              "      border-radius: 50%;\n",
              "      cursor: pointer;\n",
              "      display: none;\n",
              "      fill: #1967D2;\n",
              "      height: 32px;\n",
              "      padding: 0 0 0 0;\n",
              "      width: 32px;\n",
              "    }\n",
              "\n",
              "    .colab-df-convert:hover {\n",
              "      background-color: #E2EBFA;\n",
              "      box-shadow: 0px 1px 2px rgba(60, 64, 67, 0.3), 0px 1px 3px 1px rgba(60, 64, 67, 0.15);\n",
              "      fill: #174EA6;\n",
              "    }\n",
              "\n",
              "    [theme=dark] .colab-df-convert {\n",
              "      background-color: #3B4455;\n",
              "      fill: #D2E3FC;\n",
              "    }\n",
              "\n",
              "    [theme=dark] .colab-df-convert:hover {\n",
              "      background-color: #434B5C;\n",
              "      box-shadow: 0px 1px 3px 1px rgba(0, 0, 0, 0.15);\n",
              "      filter: drop-shadow(0px 1px 2px rgba(0, 0, 0, 0.3));\n",
              "      fill: #FFFFFF;\n",
              "    }\n",
              "  </style>\n",
              "\n",
              "      <script>\n",
              "        const buttonEl =\n",
              "          document.querySelector('#df-cceaf64d-3988-470b-bd7d-d0a94db6c9bc button.colab-df-convert');\n",
              "        buttonEl.style.display =\n",
              "          google.colab.kernel.accessAllowed ? 'block' : 'none';\n",
              "\n",
              "        async function convertToInteractive(key) {\n",
              "          const element = document.querySelector('#df-cceaf64d-3988-470b-bd7d-d0a94db6c9bc');\n",
              "          const dataTable =\n",
              "            await google.colab.kernel.invokeFunction('convertToInteractive',\n",
              "                                                     [key], {});\n",
              "          if (!dataTable) return;\n",
              "\n",
              "          const docLinkHtml = 'Like what you see? Visit the ' +\n",
              "            '<a target=\"_blank\" href=https://colab.research.google.com/notebooks/data_table.ipynb>data table notebook</a>'\n",
              "            + ' to learn more about interactive tables.';\n",
              "          element.innerHTML = '';\n",
              "          dataTable['output_type'] = 'display_data';\n",
              "          await google.colab.output.renderOutput(dataTable, element);\n",
              "          const docLink = document.createElement('div');\n",
              "          docLink.innerHTML = docLinkHtml;\n",
              "          element.appendChild(docLink);\n",
              "        }\n",
              "      </script>\n",
              "    </div>\n",
              "  </div>\n",
              "  "
            ]
          },
          "metadata": {},
          "execution_count": 8
        }
      ]
    },
    {
      "cell_type": "code",
      "source": [
        "args_test = pd.read_csv(\"arguments-validation.tsv\", delimiter='\\t')\n",
        "labels_test = pd.read_csv(\"labels-validation.tsv\", delimiter='\\t')"
      ],
      "metadata": {
        "id": "F-7bEo78wUdc"
      },
      "execution_count": 9,
      "outputs": []
    },
    {
      "cell_type": "code",
      "source": [
        "df = args_test.merge(labels_test)\n",
        "df['list'] = df[df.columns[4:]].values.tolist()\n",
        "df['text'] = df.Conclusion+\" \"+df.Stance+\" \"+df.Premise\n",
        "df_test = df[['text', 'list']].copy()\n",
        "df_test.head()"
      ],
      "metadata": {
        "colab": {
          "base_uri": "https://localhost:8080/",
          "height": 206
        },
        "id": "x4xeWOy4wfss",
        "outputId": "eb3933ae-3990-4d42-c6dd-43cc65e1ee3f"
      },
      "execution_count": 10,
      "outputs": [
        {
          "output_type": "execute_result",
          "data": {
            "text/plain": [
              "                                                text  \\\n",
              "0  Entrapment should be legalized in favor of if ...   \n",
              "1  The use of public defenders should be mandator...   \n",
              "2  Payday loans should be banned in favor of payd...   \n",
              "3  Surrogacy should be banned against Surrogacy s...   \n",
              "4  Entrapment should be legalized against entrapm...   \n",
              "\n",
              "                                                list  \n",
              "0  [0, 0, 0, 0, 0, 0, 0, 0, 0, 1, 0, 0, 0, 0, 0, ...  \n",
              "1  [0, 0, 0, 0, 0, 0, 0, 0, 0, 0, 0, 0, 0, 0, 0, ...  \n",
              "2  [0, 0, 0, 0, 0, 0, 0, 0, 1, 0, 0, 0, 0, 0, 0, ...  \n",
              "3  [0, 1, 0, 0, 0, 0, 0, 0, 0, 0, 0, 0, 0, 0, 0, ...  \n",
              "4  [0, 0, 0, 0, 0, 0, 0, 0, 0, 0, 0, 1, 0, 0, 0, ...  "
            ],
            "text/html": [
              "\n",
              "  <div id=\"df-d7642c21-1f12-4141-bb6a-034084b50c1f\">\n",
              "    <div class=\"colab-df-container\">\n",
              "      <div>\n",
              "<style scoped>\n",
              "    .dataframe tbody tr th:only-of-type {\n",
              "        vertical-align: middle;\n",
              "    }\n",
              "\n",
              "    .dataframe tbody tr th {\n",
              "        vertical-align: top;\n",
              "    }\n",
              "\n",
              "    .dataframe thead th {\n",
              "        text-align: right;\n",
              "    }\n",
              "</style>\n",
              "<table border=\"1\" class=\"dataframe\">\n",
              "  <thead>\n",
              "    <tr style=\"text-align: right;\">\n",
              "      <th></th>\n",
              "      <th>text</th>\n",
              "      <th>list</th>\n",
              "    </tr>\n",
              "  </thead>\n",
              "  <tbody>\n",
              "    <tr>\n",
              "      <th>0</th>\n",
              "      <td>Entrapment should be legalized in favor of if ...</td>\n",
              "      <td>[0, 0, 0, 0, 0, 0, 0, 0, 0, 1, 0, 0, 0, 0, 0, ...</td>\n",
              "    </tr>\n",
              "    <tr>\n",
              "      <th>1</th>\n",
              "      <td>The use of public defenders should be mandator...</td>\n",
              "      <td>[0, 0, 0, 0, 0, 0, 0, 0, 0, 0, 0, 0, 0, 0, 0, ...</td>\n",
              "    </tr>\n",
              "    <tr>\n",
              "      <th>2</th>\n",
              "      <td>Payday loans should be banned in favor of payd...</td>\n",
              "      <td>[0, 0, 0, 0, 0, 0, 0, 0, 1, 0, 0, 0, 0, 0, 0, ...</td>\n",
              "    </tr>\n",
              "    <tr>\n",
              "      <th>3</th>\n",
              "      <td>Surrogacy should be banned against Surrogacy s...</td>\n",
              "      <td>[0, 1, 0, 0, 0, 0, 0, 0, 0, 0, 0, 0, 0, 0, 0, ...</td>\n",
              "    </tr>\n",
              "    <tr>\n",
              "      <th>4</th>\n",
              "      <td>Entrapment should be legalized against entrapm...</td>\n",
              "      <td>[0, 0, 0, 0, 0, 0, 0, 0, 0, 0, 0, 1, 0, 0, 0, ...</td>\n",
              "    </tr>\n",
              "  </tbody>\n",
              "</table>\n",
              "</div>\n",
              "      <button class=\"colab-df-convert\" onclick=\"convertToInteractive('df-d7642c21-1f12-4141-bb6a-034084b50c1f')\"\n",
              "              title=\"Convert this dataframe to an interactive table.\"\n",
              "              style=\"display:none;\">\n",
              "        \n",
              "  <svg xmlns=\"http://www.w3.org/2000/svg\" height=\"24px\"viewBox=\"0 0 24 24\"\n",
              "       width=\"24px\">\n",
              "    <path d=\"M0 0h24v24H0V0z\" fill=\"none\"/>\n",
              "    <path d=\"M18.56 5.44l.94 2.06.94-2.06 2.06-.94-2.06-.94-.94-2.06-.94 2.06-2.06.94zm-11 1L8.5 8.5l.94-2.06 2.06-.94-2.06-.94L8.5 2.5l-.94 2.06-2.06.94zm10 10l.94 2.06.94-2.06 2.06-.94-2.06-.94-.94-2.06-.94 2.06-2.06.94z\"/><path d=\"M17.41 7.96l-1.37-1.37c-.4-.4-.92-.59-1.43-.59-.52 0-1.04.2-1.43.59L10.3 9.45l-7.72 7.72c-.78.78-.78 2.05 0 2.83L4 21.41c.39.39.9.59 1.41.59.51 0 1.02-.2 1.41-.59l7.78-7.78 2.81-2.81c.8-.78.8-2.07 0-2.86zM5.41 20L4 18.59l7.72-7.72 1.47 1.35L5.41 20z\"/>\n",
              "  </svg>\n",
              "      </button>\n",
              "      \n",
              "  <style>\n",
              "    .colab-df-container {\n",
              "      display:flex;\n",
              "      flex-wrap:wrap;\n",
              "      gap: 12px;\n",
              "    }\n",
              "\n",
              "    .colab-df-convert {\n",
              "      background-color: #E8F0FE;\n",
              "      border: none;\n",
              "      border-radius: 50%;\n",
              "      cursor: pointer;\n",
              "      display: none;\n",
              "      fill: #1967D2;\n",
              "      height: 32px;\n",
              "      padding: 0 0 0 0;\n",
              "      width: 32px;\n",
              "    }\n",
              "\n",
              "    .colab-df-convert:hover {\n",
              "      background-color: #E2EBFA;\n",
              "      box-shadow: 0px 1px 2px rgba(60, 64, 67, 0.3), 0px 1px 3px 1px rgba(60, 64, 67, 0.15);\n",
              "      fill: #174EA6;\n",
              "    }\n",
              "\n",
              "    [theme=dark] .colab-df-convert {\n",
              "      background-color: #3B4455;\n",
              "      fill: #D2E3FC;\n",
              "    }\n",
              "\n",
              "    [theme=dark] .colab-df-convert:hover {\n",
              "      background-color: #434B5C;\n",
              "      box-shadow: 0px 1px 3px 1px rgba(0, 0, 0, 0.15);\n",
              "      filter: drop-shadow(0px 1px 2px rgba(0, 0, 0, 0.3));\n",
              "      fill: #FFFFFF;\n",
              "    }\n",
              "  </style>\n",
              "\n",
              "      <script>\n",
              "        const buttonEl =\n",
              "          document.querySelector('#df-d7642c21-1f12-4141-bb6a-034084b50c1f button.colab-df-convert');\n",
              "        buttonEl.style.display =\n",
              "          google.colab.kernel.accessAllowed ? 'block' : 'none';\n",
              "\n",
              "        async function convertToInteractive(key) {\n",
              "          const element = document.querySelector('#df-d7642c21-1f12-4141-bb6a-034084b50c1f');\n",
              "          const dataTable =\n",
              "            await google.colab.kernel.invokeFunction('convertToInteractive',\n",
              "                                                     [key], {});\n",
              "          if (!dataTable) return;\n",
              "\n",
              "          const docLinkHtml = 'Like what you see? Visit the ' +\n",
              "            '<a target=\"_blank\" href=https://colab.research.google.com/notebooks/data_table.ipynb>data table notebook</a>'\n",
              "            + ' to learn more about interactive tables.';\n",
              "          element.innerHTML = '';\n",
              "          dataTable['output_type'] = 'display_data';\n",
              "          await google.colab.output.renderOutput(dataTable, element);\n",
              "          const docLink = document.createElement('div');\n",
              "          docLink.innerHTML = docLinkHtml;\n",
              "          element.appendChild(docLink);\n",
              "        }\n",
              "      </script>\n",
              "    </div>\n",
              "  </div>\n",
              "  "
            ]
          },
          "metadata": {},
          "execution_count": 10
        }
      ]
    },
    {
      "cell_type": "markdown",
      "source": [
        "<a id='section03'></a>\n",
        "### Preparing the Dataset and Dataloader\n",
        "We will go through the following workflow:\n",
        "1. Definition of global variables that will be used later \n",
        "during the training/fine tuning stage.\n",
        "2. Creation of CustomDataset class - This defines how the text is pre-processed before sending it to the neural network. \n",
        "3. Definiition of the Dataloader that will feed  the data in batches to the neural network for suitable training and processing. \n",
        "---\n",
        "***NOTE***\n",
        "\n",
        "Dataset and Dataloader are constructs of the [PyTorch library](https://pytorch.org/docs/stable/data.html) for defining and controlling the data pre-processing and its passage to neural network.\n"
      ],
      "metadata": {
        "id": "6VQlrH7NSr9_"
      }
    },
    {
      "cell_type": "markdown",
      "source": [
        "#### Definition of global variables"
      ],
      "metadata": {
        "id": "Po0fklDiWH61"
      }
    },
    {
      "cell_type": "code",
      "execution_count": 11,
      "metadata": {
        "id": "ikfbFlNHgi8T"
      },
      "outputs": [],
      "source": [
        "# Sections of config\n",
        "\n",
        "# Defining some key variables that will be used later on in the training\n",
        "#MODEL_NAME = 'bert-base-uncased'\n",
        "#MODEL_NAME = 'bert-large-uncased'\n",
        "#MODEL_NAME = 'roberta-base'\n",
        "#MODEL_NAME = 'roberta-large'\n",
        "MODEL_NAME = 'distilbert-base-uncased'\n",
        "\n",
        "MAX_LEN = 75\n",
        "BATCH_SIZE = 16\n",
        "EPOCHS = 12\n",
        "LEARNING_RATE = 2e-05\n",
        "OUT_CHANNELS = 768 if \"base\" in  MODEL_NAME else 1024\n",
        "\n",
        "tokenizer = AutoTokenizer.from_pretrained(MODEL_NAME)"
      ]
    },
    {
      "cell_type": "markdown",
      "source": [
        "\n",
        "#### *CustomDataset* Dataset Class\n",
        "- This class is defined to accept the `tokenizer`, `dataframe` and `max_length` as input and generate tokenized output and tags that is used by the BERT/ROBERTA/DISTILBERT model for training. \n",
        "- We are using the BERT/ROBERTA/DISTILBERT tokenizer to tokenize the data in the `comment_text` column of the dataframe.\n",
        "- The tokenizer uses the `encode_plus` method to perform tokenization and generate the necessary outputs, namely: `ids`, `attention_mask`, `token_type_ids` (*the latter is not generated by DISTILBERT tokenizer*)\n",
        "\n",
        "- `targest` is the list of categories labled as `0` or `1` in the dataframe. \n",
        "- The *CustomDataset* class is used to create 2 datasets, for training and for validation.\n",
        "- *Training Dataset* is used to fine tune the model.\n",
        "- *Validation Dataset* is used to evaluate the performance of the model. "
      ],
      "metadata": {
        "id": "iH9wr23MWULM"
      }
    },
    {
      "cell_type": "code",
      "execution_count": 12,
      "metadata": {
        "id": "oFOylAXqiNYK"
      },
      "outputs": [],
      "source": [
        "class CustomDataset(Dataset):\n",
        "\n",
        "    def __init__(self, dataframe, tokenizer, max_len):\n",
        "        self.tokenizer = tokenizer\n",
        "        self.data = dataframe\n",
        "        self.text = dataframe.text\n",
        "        self.targets = self.data.list #labels\n",
        "        self.max_len = max_len\n",
        "\n",
        "    def __len__(self):\n",
        "        return len(self.text)\n",
        "\n",
        "    def __getitem__(self, index):\n",
        "        text = str(self.text[index])\n",
        "        text = \" \".join(text.split())\n",
        "\n",
        "        inputs = self.tokenizer.encode_plus(\n",
        "            text,\n",
        "            None,\n",
        "            add_special_tokens=True,\n",
        "            max_length=self.max_len,\n",
        "            truncation=True,\n",
        "            padding='max_length',\n",
        "            return_token_type_ids=True\n",
        "        )\n",
        "        ids = inputs['input_ids']\n",
        "        mask = inputs['attention_mask']\n",
        "        token_type_ids = inputs[\"token_type_ids\"]\n",
        "\n",
        "\n",
        "        return {\n",
        "            'ids': torch.tensor(ids, dtype=torch.long),\n",
        "            'mask': torch.tensor(mask, dtype=torch.long),\n",
        "            'token_type_ids': torch.tensor(token_type_ids, dtype=torch.long),\n",
        "            'targets': torch.tensor(self.targets[index], dtype=torch.float)\n",
        "        }"
      ]
    },
    {
      "cell_type": "code",
      "execution_count": 13,
      "metadata": {
        "colab": {
          "base_uri": "https://localhost:8080/"
        },
        "id": "PkDGqarcPowL",
        "outputId": "dbf2bc0b-65ff-42c0-a1e2-7a956f854cc0"
      },
      "outputs": [
        {
          "output_type": "stream",
          "name": "stdout",
          "text": [
            "TRAIN Dataset: (5393, 2)\n",
            "TEST Dataset: (1896, 2)\n"
          ]
        }
      ],
      "source": [
        "# Creating the dataset and dataloader for the neural network\n",
        "\n",
        "print(\"TRAIN Dataset: {}\".format(df_train.shape))\n",
        "print(\"TEST Dataset: {}\".format(df_test.shape))\n",
        "\n",
        "training_set = CustomDataset(df_train, tokenizer, MAX_LEN)\n",
        "testing_set = CustomDataset(df_test, tokenizer, MAX_LEN)"
      ]
    },
    {
      "cell_type": "markdown",
      "source": [
        "#### Dataloader\n",
        "- Dataloader is used to create training and validation dataloader that load data to the neural network in a defined manner. This is needed because all the data from the dataset cannot be loaded to the memory at once, hence the amount of data loaded to the memory and then passed to the neural network needs to be controlled.\n",
        "- This control is achieved using the parameters such as `batch_size` and `max_len`.\n",
        "- Training and Validation dataloaders are used in the training and validation part of the flow respectively"
      ],
      "metadata": {
        "id": "TqMWh_JtVdHP"
      }
    },
    {
      "cell_type": "code",
      "execution_count": 14,
      "metadata": {
        "id": "vLpilV73QrXJ"
      },
      "outputs": [],
      "source": [
        "training_loader = DataLoader(training_set, batch_size = BATCH_SIZE)\n",
        "testing_loader = DataLoader(testing_set, batch_size = BATCH_SIZE)"
      ]
    },
    {
      "cell_type": "markdown",
      "source": [
        "<a id='section04'></a>\n",
        "\n",
        "#### Neural network\n",
        "We will be creating a neural network with either the `BERTClass` or `DistilbertClass` depending on the established `MODEL_NAME`. \n",
        "\n",
        "##### BERTClass\n",
        "\n",
        "- This network will have the `Bert` / `Roberta` model follwed by a `Droput` and `Linear Layer`. They are added for the purpose of **Regulariaztion** and **Classification** respectively. \n",
        "- In the forward loop, there are 2 output from the `BertModel` / `RobertaModel` layer.\n",
        "- The second output `output_1` or called the `pooled output` is passed to the `Drop Out layer` and the subsequent output is given to the `Linear layer`. \n",
        "- Keep note the number of dimensions for `Linear Layer` is **20** because that is the total number of categories in which we are looking to classify our model.\n",
        "- The data will be fed to the `BertClass` as defined in the dataset. \n",
        "- Final layer outputs is what will be used to calcuate the loss and to determine the accuracy of models prediction. \n",
        "- We will initiate an instance of the network called `model`. This instance will be used for training and then to save the final trained model for future inference. \n",
        "\n",
        "#####DistilbertClass\n",
        "- We will be creating a neural network with the `DistillbertClass`. \n",
        "- This network will have the DistilBERT Language model followed by a `dropout` and finally a `Linear` layer to obtain the final outputs. \n",
        "- The data will be fed to the DistilBERT Language model as defined in the dataset. \n",
        "- Final layer outputs is what will be compared to the `encoded category` to determine the accuracy of models prediction. \n",
        "- We will initiate an instance of the network called `model`. This instance will be used for training and then to save the final trained model for future inference. \n",
        "\n",
        "---\n",
        "***NOTE***\n",
        "- *It is to be noted that the outputs to the BERT and ROBERTA models are different from DISTILBERT Model implemented by the Hugging Face team. There are no `token_type_ids` generated from the tokenizer in case of DISTILBERT and also the final outputs from the network differ.*\n",
        "\n",
        "---"
      ],
      "metadata": {
        "id": "1Ywuv7ShWqVa"
      }
    },
    {
      "cell_type": "code",
      "execution_count": 15,
      "metadata": {
        "id": "DegHNyIEQxB2"
      },
      "outputs": [],
      "source": [
        "# Creating the customized model, by adding a drop out and a dense layer on top of distil bert to get the final output for the model. \n",
        "\n",
        "class BERTClass(torch.nn.Module):\n",
        "    def __init__(self,model):\n",
        "        super(BERTClass, self).__init__()\n",
        "        self.l1 = transformers.AutoModel.from_pretrained(model, return_dict=False)\n",
        "        self.l2 = torch.nn.Dropout(p=0.3)\n",
        "        self.l3 = torch.nn.Linear(OUT_CHANNELS, 20)\n",
        "    \n",
        "    def forward(self, ids, mask, token_type_ids):\n",
        "        _, output_1= self.l1(ids, attention_mask = mask, token_type_ids = token_type_ids)\n",
        "        output_2 = self.l2(output_1)\n",
        "        output = self.l3(output_2)\n",
        "        return output\n"
      ]
    },
    {
      "cell_type": "code",
      "source": [
        "# Creating the customized model, by adding a drop out and a dense layer on top of distil bert to get the final output for the model. \n",
        "\n",
        "class DistilbertClass(torch.nn.Module):\n",
        "    def __init__(self,model):\n",
        "        super(DistilbertClass, self).__init__()\n",
        "        self.l1 = transformers.AutoModel.from_pretrained(model, return_dict=False)\n",
        "        self.dropout = torch.nn.Dropout(0.3)\n",
        "        self.classifier = torch.nn.Linear(OUT_CHANNELS, 20)\n",
        "\n",
        "    def forward(self, ids, mask, token_type_ids):\n",
        "        output_1 = self.l1(input_ids=ids, attention_mask=mask)\n",
        "        hidden_state = output_1[0]\n",
        "        pooler = hidden_state[:, 0]\n",
        "        pooler = self.dropout(pooler)\n",
        "        output = self.classifier(pooler)\n",
        "        \n",
        "        return output\n"
      ],
      "metadata": {
        "id": "-mPVLJq-yHhK"
      },
      "execution_count": 16,
      "outputs": []
    },
    {
      "cell_type": "code",
      "source": [
        "#torch.cuda.empty_cache()"
      ],
      "metadata": {
        "id": "fFs1rQcgBufe"
      },
      "execution_count": 17,
      "outputs": []
    },
    {
      "cell_type": "code",
      "source": [
        "model = BERTClass(MODEL_NAME) if \"distilbert\" not in MODEL_NAME else DistilbertClass(MODEL_NAME)\n",
        "model.to(device)"
      ],
      "metadata": {
        "colab": {
          "base_uri": "https://localhost:8080/"
        },
        "id": "kRT62BLwyJq6",
        "outputId": "61d79dc2-1263-4c9d-c07a-65a1771a374f"
      },
      "execution_count": 18,
      "outputs": [
        {
          "output_type": "stream",
          "name": "stderr",
          "text": [
            "Some weights of the model checkpoint at distilbert-base-uncased were not used when initializing DistilBertModel: ['vocab_layer_norm.bias', 'vocab_transform.weight', 'vocab_projector.bias', 'vocab_projector.weight', 'vocab_transform.bias', 'vocab_layer_norm.weight']\n",
            "- This IS expected if you are initializing DistilBertModel from the checkpoint of a model trained on another task or with another architecture (e.g. initializing a BertForSequenceClassification model from a BertForPreTraining model).\n",
            "- This IS NOT expected if you are initializing DistilBertModel from the checkpoint of a model that you expect to be exactly identical (initializing a BertForSequenceClassification model from a BertForSequenceClassification model).\n"
          ]
        },
        {
          "output_type": "execute_result",
          "data": {
            "text/plain": [
              "DistilbertClass(\n",
              "  (l1): DistilBertModel(\n",
              "    (embeddings): Embeddings(\n",
              "      (word_embeddings): Embedding(30522, 768, padding_idx=0)\n",
              "      (position_embeddings): Embedding(512, 768)\n",
              "      (LayerNorm): LayerNorm((768,), eps=1e-12, elementwise_affine=True)\n",
              "      (dropout): Dropout(p=0.1, inplace=False)\n",
              "    )\n",
              "    (transformer): Transformer(\n",
              "      (layer): ModuleList(\n",
              "        (0): TransformerBlock(\n",
              "          (attention): MultiHeadSelfAttention(\n",
              "            (dropout): Dropout(p=0.1, inplace=False)\n",
              "            (q_lin): Linear(in_features=768, out_features=768, bias=True)\n",
              "            (k_lin): Linear(in_features=768, out_features=768, bias=True)\n",
              "            (v_lin): Linear(in_features=768, out_features=768, bias=True)\n",
              "            (out_lin): Linear(in_features=768, out_features=768, bias=True)\n",
              "          )\n",
              "          (sa_layer_norm): LayerNorm((768,), eps=1e-12, elementwise_affine=True)\n",
              "          (ffn): FFN(\n",
              "            (dropout): Dropout(p=0.1, inplace=False)\n",
              "            (lin1): Linear(in_features=768, out_features=3072, bias=True)\n",
              "            (lin2): Linear(in_features=3072, out_features=768, bias=True)\n",
              "            (activation): GELUActivation()\n",
              "          )\n",
              "          (output_layer_norm): LayerNorm((768,), eps=1e-12, elementwise_affine=True)\n",
              "        )\n",
              "        (1): TransformerBlock(\n",
              "          (attention): MultiHeadSelfAttention(\n",
              "            (dropout): Dropout(p=0.1, inplace=False)\n",
              "            (q_lin): Linear(in_features=768, out_features=768, bias=True)\n",
              "            (k_lin): Linear(in_features=768, out_features=768, bias=True)\n",
              "            (v_lin): Linear(in_features=768, out_features=768, bias=True)\n",
              "            (out_lin): Linear(in_features=768, out_features=768, bias=True)\n",
              "          )\n",
              "          (sa_layer_norm): LayerNorm((768,), eps=1e-12, elementwise_affine=True)\n",
              "          (ffn): FFN(\n",
              "            (dropout): Dropout(p=0.1, inplace=False)\n",
              "            (lin1): Linear(in_features=768, out_features=3072, bias=True)\n",
              "            (lin2): Linear(in_features=3072, out_features=768, bias=True)\n",
              "            (activation): GELUActivation()\n",
              "          )\n",
              "          (output_layer_norm): LayerNorm((768,), eps=1e-12, elementwise_affine=True)\n",
              "        )\n",
              "        (2): TransformerBlock(\n",
              "          (attention): MultiHeadSelfAttention(\n",
              "            (dropout): Dropout(p=0.1, inplace=False)\n",
              "            (q_lin): Linear(in_features=768, out_features=768, bias=True)\n",
              "            (k_lin): Linear(in_features=768, out_features=768, bias=True)\n",
              "            (v_lin): Linear(in_features=768, out_features=768, bias=True)\n",
              "            (out_lin): Linear(in_features=768, out_features=768, bias=True)\n",
              "          )\n",
              "          (sa_layer_norm): LayerNorm((768,), eps=1e-12, elementwise_affine=True)\n",
              "          (ffn): FFN(\n",
              "            (dropout): Dropout(p=0.1, inplace=False)\n",
              "            (lin1): Linear(in_features=768, out_features=3072, bias=True)\n",
              "            (lin2): Linear(in_features=3072, out_features=768, bias=True)\n",
              "            (activation): GELUActivation()\n",
              "          )\n",
              "          (output_layer_norm): LayerNorm((768,), eps=1e-12, elementwise_affine=True)\n",
              "        )\n",
              "        (3): TransformerBlock(\n",
              "          (attention): MultiHeadSelfAttention(\n",
              "            (dropout): Dropout(p=0.1, inplace=False)\n",
              "            (q_lin): Linear(in_features=768, out_features=768, bias=True)\n",
              "            (k_lin): Linear(in_features=768, out_features=768, bias=True)\n",
              "            (v_lin): Linear(in_features=768, out_features=768, bias=True)\n",
              "            (out_lin): Linear(in_features=768, out_features=768, bias=True)\n",
              "          )\n",
              "          (sa_layer_norm): LayerNorm((768,), eps=1e-12, elementwise_affine=True)\n",
              "          (ffn): FFN(\n",
              "            (dropout): Dropout(p=0.1, inplace=False)\n",
              "            (lin1): Linear(in_features=768, out_features=3072, bias=True)\n",
              "            (lin2): Linear(in_features=3072, out_features=768, bias=True)\n",
              "            (activation): GELUActivation()\n",
              "          )\n",
              "          (output_layer_norm): LayerNorm((768,), eps=1e-12, elementwise_affine=True)\n",
              "        )\n",
              "        (4): TransformerBlock(\n",
              "          (attention): MultiHeadSelfAttention(\n",
              "            (dropout): Dropout(p=0.1, inplace=False)\n",
              "            (q_lin): Linear(in_features=768, out_features=768, bias=True)\n",
              "            (k_lin): Linear(in_features=768, out_features=768, bias=True)\n",
              "            (v_lin): Linear(in_features=768, out_features=768, bias=True)\n",
              "            (out_lin): Linear(in_features=768, out_features=768, bias=True)\n",
              "          )\n",
              "          (sa_layer_norm): LayerNorm((768,), eps=1e-12, elementwise_affine=True)\n",
              "          (ffn): FFN(\n",
              "            (dropout): Dropout(p=0.1, inplace=False)\n",
              "            (lin1): Linear(in_features=768, out_features=3072, bias=True)\n",
              "            (lin2): Linear(in_features=3072, out_features=768, bias=True)\n",
              "            (activation): GELUActivation()\n",
              "          )\n",
              "          (output_layer_norm): LayerNorm((768,), eps=1e-12, elementwise_affine=True)\n",
              "        )\n",
              "        (5): TransformerBlock(\n",
              "          (attention): MultiHeadSelfAttention(\n",
              "            (dropout): Dropout(p=0.1, inplace=False)\n",
              "            (q_lin): Linear(in_features=768, out_features=768, bias=True)\n",
              "            (k_lin): Linear(in_features=768, out_features=768, bias=True)\n",
              "            (v_lin): Linear(in_features=768, out_features=768, bias=True)\n",
              "            (out_lin): Linear(in_features=768, out_features=768, bias=True)\n",
              "          )\n",
              "          (sa_layer_norm): LayerNorm((768,), eps=1e-12, elementwise_affine=True)\n",
              "          (ffn): FFN(\n",
              "            (dropout): Dropout(p=0.1, inplace=False)\n",
              "            (lin1): Linear(in_features=768, out_features=3072, bias=True)\n",
              "            (lin2): Linear(in_features=3072, out_features=768, bias=True)\n",
              "            (activation): GELUActivation()\n",
              "          )\n",
              "          (output_layer_norm): LayerNorm((768,), eps=1e-12, elementwise_affine=True)\n",
              "        )\n",
              "      )\n",
              "    )\n",
              "  )\n",
              "  (dropout): Dropout(p=0.3, inplace=False)\n",
              "  (classifier): Linear(in_features=768, out_features=20, bias=True)\n",
              ")"
            ]
          },
          "metadata": {},
          "execution_count": 18
        }
      ]
    },
    {
      "cell_type": "markdown",
      "source": [
        "#### Loss Function and Optimizer\n",
        " - The Loss is defined in the next cell as `loss_fn`.\n",
        " - As defined above, the loss function used will be a combination of Binary Cross Entropy which is implemented as [BCELogits Loss](https://pytorch.org/docs/stable/nn.html#bcewithlogitsloss) in PyTorch\n",
        " - `Optimizer` is used to update the weights of the neural network to improve its performance."
      ],
      "metadata": {
        "id": "pCovzcfwW6b1"
      }
    },
    {
      "cell_type": "code",
      "execution_count": 19,
      "metadata": {
        "id": "7KnNeQx6SI78"
      },
      "outputs": [],
      "source": [
        "def loss_fn(outputs, targets):\n",
        "    return torch.nn.BCEWithLogitsLoss()(outputs, targets)"
      ]
    },
    {
      "cell_type": "code",
      "source": [
        "from transformers import AdamW, get_linear_schedule_with_warmup\n",
        "\n",
        "optimizer = AdamW(model.parameters(),\n",
        "                  lr=LEARNING_RATE, \n",
        "                  )\n",
        "                  \n",
        "\n",
        "scheduler = get_linear_schedule_with_warmup(optimizer, \n",
        "                                            num_warmup_steps=0,\n",
        "                                            num_training_steps=len(training_loader)*EPOCHS)\n"
      ],
      "metadata": {
        "colab": {
          "base_uri": "https://localhost:8080/"
        },
        "id": "zXDSgly3tT1O",
        "outputId": "f06eaff4-ba0f-4a66-e4d2-9d9d9b00420b"
      },
      "execution_count": 20,
      "outputs": [
        {
          "output_type": "stream",
          "name": "stderr",
          "text": [
            "/usr/local/lib/python3.8/dist-packages/transformers/optimization.py:306: FutureWarning: This implementation of AdamW is deprecated and will be removed in a future version. Use the PyTorch implementation torch.optim.AdamW instead, or set `no_deprecation_warning=True` to disable this warning\n",
            "  warnings.warn(\n"
          ]
        }
      ]
    },
    {
      "cell_type": "code",
      "execution_count": 21,
      "metadata": {
        "id": "gUD8j0c7WsA-"
      },
      "outputs": [],
      "source": [
        "#optimizer = torch.optim.Adam(params =  model.parameters(), lr=LEARNING_RATE)"
      ]
    },
    {
      "cell_type": "markdown",
      "source": [
        "<a id='section05'></a>\n",
        "### Fine Tuning the Model\n",
        "\n",
        "Here we define a training function that trains the model on the training dataset created above, specified the number of epochs.\n",
        "\n",
        "Following events happen in this function to fine tune the neural network:\n",
        "- The dataloader passes data to the model based on the batch size. \n",
        "- Subsequent output from the model and the actual category are compared to calculate the loss. \n",
        "- Loss value is used to optimize the weights of the neurons in the network.\n",
        "- After every 100 steps the loss value is printed in the console."
      ],
      "metadata": {
        "id": "eL3We22Cgwyr"
      }
    },
    {
      "cell_type": "code",
      "execution_count": 22,
      "metadata": {
        "id": "B9_DjWmfWx1q"
      },
      "outputs": [],
      "source": [
        "def train():\n",
        "    size = len(training_loader.dataset)\n",
        "    model.train()\n",
        "    for batch,data in enumerate(training_loader, 0):\n",
        "        ids = data['ids'].to(device, dtype = torch.long)\n",
        "        mask = data['mask'].to(device, dtype = torch.long)\n",
        "        token_type_ids = data['token_type_ids'].to(device, dtype = torch.long)\n",
        "        targets = data['targets'].to(device, dtype = torch.float)\n",
        "\n",
        "        outputs = model(ids, mask, token_type_ids)\n",
        "        loss = loss_fn(outputs, targets)\n",
        "\n",
        "        # Backpropagation\n",
        "        optimizer.zero_grad()\n",
        "        loss.backward()\n",
        "        optimizer.step()\n",
        "        scheduler.step()\n",
        "\n",
        "        if batch%100==0:\n",
        "            current =  batch * len(data['ids'])\n",
        "            print(f\"Train loss: {loss.item():>7f}  [{current:>5d}/{size:>5d}]\")\n",
        "        \n",
        "        "
      ]
    },
    {
      "cell_type": "markdown",
      "source": [
        "<a id='section06'></a>\n",
        "### Validating the Model\n",
        "\n",
        "During the validation stage we check the model’s performance against the testing dataset to ensure it is learning. This testing data is the one of `args-validation.tsv`. During the validation stage at each epoch we keep track of the average loss on the validation set. This check is then used to save the best model, such as the model which registered the lowest average loss on validation set during a specific epoch. "
      ],
      "metadata": {
        "id": "mnBZM8Mu9TNE"
      }
    },
    {
      "cell_type": "code",
      "execution_count": 23,
      "metadata": {
        "id": "nIEoUm4aQkyl"
      },
      "outputs": [],
      "source": [
        "def validation(epoch, val_loss_min_input):\n",
        "    size = len(testing_loader.dataset)\n",
        "    num_batches = len(testing_loader)\n",
        "    model.eval()\n",
        "    val_loss = 0\n",
        "    #fin_targets=[]\n",
        "    #fin_outputs=[]\n",
        "    with torch.no_grad():\n",
        "        for batch_idx, data in enumerate(testing_loader, 0):\n",
        "            ids = data['ids'].to(device, dtype = torch.long)\n",
        "            mask = data['mask'].to(device, dtype = torch.long)\n",
        "            token_type_ids = data['token_type_ids'].to(device, dtype = torch.long)\n",
        "            targets = data['targets'].to(device, dtype = torch.float)\n",
        "            outputs = model(ids, mask, token_type_ids)\n",
        "            val_loss += loss_fn(outputs, targets).item()\n",
        "        \n",
        "        val_loss /= num_batches\n",
        "        #outputs, targets = fin_outputs, fin_targets\n",
        "        print(f\"\\nValidation loss: {val_loss:>8f}.\")\n",
        "        ## TODO: save the model if validation loss has decreased\n",
        "        if val_loss <= val_loss_min_input:\n",
        "            #create checkpoint variable and add important data\n",
        "            if epoch > 0: \n",
        "                print('Validation loss decreased ({:.8f} --> {:.8f}).  Saving model ...'.format(val_loss_min_input, val_loss))\n",
        "            else: print('Saving model ...')   \n",
        "            # save best moel\n",
        "            torch.save(model.state_dict(), f\"weights_{MODEL_NAME}.pth\")\n",
        "            print(f\"Saved PyTorch Model State to weights_{MODEL_NAME}.pth\\n\")\n",
        "            val_loss_min_input = val_loss\n",
        "    \n",
        "    return val_loss_min_input\n",
        "       "
      ]
    },
    {
      "cell_type": "code",
      "execution_count": 24,
      "metadata": {
        "colab": {
          "base_uri": "https://localhost:8080/"
        },
        "id": "Ov1_3R_pAcMo",
        "outputId": "8a8e3491-9424-474b-d311-b9338514be24"
      },
      "outputs": [
        {
          "output_type": "stream",
          "name": "stdout",
          "text": [
            "Epoch 1\n",
            "-------------------------------\n",
            "Train loss: 0.728254  [    0/ 5393]\n",
            "Train loss: 0.406923  [ 1600/ 5393]\n",
            "Train loss: 0.319875  [ 3200/ 5393]\n",
            "Train loss: 0.392476  [ 4800/ 5393]\n",
            "\n",
            "Validation loss: 0.375864.\n",
            "Saving model ...\n",
            "Saved PyTorch Model State to weights_distilbert-base-uncased.pth\n",
            "\n",
            "Epoch 2\n",
            "-------------------------------\n",
            "Train loss: 0.308838  [    0/ 5393]\n",
            "Train loss: 0.305965  [ 1600/ 5393]\n",
            "Train loss: 0.248356  [ 3200/ 5393]\n",
            "Train loss: 0.315137  [ 4800/ 5393]\n",
            "\n",
            "Validation loss: 0.354511.\n",
            "Validation loss decreased (0.37586420 --> 0.35451081).  Saving model ...\n",
            "Saved PyTorch Model State to weights_distilbert-base-uncased.pth\n",
            "\n",
            "Epoch 3\n",
            "-------------------------------\n",
            "Train loss: 0.283142  [    0/ 5393]\n",
            "Train loss: 0.264200  [ 1600/ 5393]\n",
            "Train loss: 0.225145  [ 3200/ 5393]\n",
            "Train loss: 0.276801  [ 4800/ 5393]\n",
            "\n",
            "Validation loss: 0.347172.\n",
            "Validation loss decreased (0.35451081 --> 0.34717175).  Saving model ...\n",
            "Saved PyTorch Model State to weights_distilbert-base-uncased.pth\n",
            "\n",
            "Epoch 4\n",
            "-------------------------------\n",
            "Train loss: 0.255474  [    0/ 5393]\n",
            "Train loss: 0.254610  [ 1600/ 5393]\n",
            "Train loss: 0.205541  [ 3200/ 5393]\n",
            "Train loss: 0.249850  [ 4800/ 5393]\n",
            "\n",
            "Validation loss: 0.343967.\n",
            "Validation loss decreased (0.34717175 --> 0.34396725).  Saving model ...\n",
            "Saved PyTorch Model State to weights_distilbert-base-uncased.pth\n",
            "\n",
            "Epoch 5\n",
            "-------------------------------\n",
            "Train loss: 0.229641  [    0/ 5393]\n",
            "Train loss: 0.237694  [ 1600/ 5393]\n",
            "Train loss: 0.177047  [ 3200/ 5393]\n",
            "Train loss: 0.222946  [ 4800/ 5393]\n",
            "\n",
            "Validation loss: 0.343762.\n",
            "Validation loss decreased (0.34396725 --> 0.34376216).  Saving model ...\n",
            "Saved PyTorch Model State to weights_distilbert-base-uncased.pth\n",
            "\n",
            "Epoch 6\n",
            "-------------------------------\n",
            "Train loss: 0.207760  [    0/ 5393]\n",
            "Train loss: 0.207126  [ 1600/ 5393]\n",
            "Train loss: 0.161529  [ 3200/ 5393]\n",
            "Train loss: 0.203938  [ 4800/ 5393]\n",
            "\n",
            "Validation loss: 0.343164.\n",
            "Validation loss decreased (0.34376216 --> 0.34316401).  Saving model ...\n",
            "Saved PyTorch Model State to weights_distilbert-base-uncased.pth\n",
            "\n",
            "Epoch 7\n",
            "-------------------------------\n",
            "Train loss: 0.190679  [    0/ 5393]\n",
            "Train loss: 0.203987  [ 1600/ 5393]\n",
            "Train loss: 0.152990  [ 3200/ 5393]\n",
            "Train loss: 0.178344  [ 4800/ 5393]\n",
            "\n",
            "Validation loss: 0.348915.\n",
            "Epoch 8\n",
            "-------------------------------\n",
            "Train loss: 0.189332  [    0/ 5393]\n",
            "Train loss: 0.182126  [ 1600/ 5393]\n",
            "Train loss: 0.149622  [ 3200/ 5393]\n",
            "Train loss: 0.168328  [ 4800/ 5393]\n",
            "\n",
            "Validation loss: 0.358848.\n",
            "Epoch 9\n",
            "-------------------------------\n",
            "Train loss: 0.172423  [    0/ 5393]\n",
            "Train loss: 0.170268  [ 1600/ 5393]\n",
            "Train loss: 0.134802  [ 3200/ 5393]\n",
            "Train loss: 0.156900  [ 4800/ 5393]\n",
            "\n",
            "Validation loss: 0.361444.\n",
            "Epoch 10\n",
            "-------------------------------\n",
            "Train loss: 0.166558  [    0/ 5393]\n",
            "Train loss: 0.164852  [ 1600/ 5393]\n",
            "Train loss: 0.137383  [ 3200/ 5393]\n",
            "Train loss: 0.147518  [ 4800/ 5393]\n",
            "\n",
            "Validation loss: 0.362569.\n",
            "Epoch 11\n",
            "-------------------------------\n",
            "Train loss: 0.155010  [    0/ 5393]\n",
            "Train loss: 0.160384  [ 1600/ 5393]\n",
            "Train loss: 0.127281  [ 3200/ 5393]\n",
            "Train loss: 0.149822  [ 4800/ 5393]\n",
            "\n",
            "Validation loss: 0.360636.\n",
            "Epoch 12\n",
            "-------------------------------\n",
            "Train loss: 0.145672  [    0/ 5393]\n",
            "Train loss: 0.144805  [ 1600/ 5393]\n",
            "Train loss: 0.139009  [ 3200/ 5393]\n",
            "Train loss: 0.145411  [ 4800/ 5393]\n",
            "\n",
            "Validation loss: 0.359269.\n"
          ]
        }
      ],
      "source": [
        "val_loss_min = np.inf\n",
        "for epoch in range(EPOCHS):\n",
        "    print(f\"Epoch {epoch+1}\\n-------------------------------\")\n",
        "    train()\n",
        "    val_loss_min = validation(epoch, val_loss_min)\n",
        "   "
      ]
    },
    {
      "cell_type": "markdown",
      "source": [
        "# MODELS EVALUATION"
      ],
      "metadata": {
        "id": "-1zEtHDQJz2R"
      }
    },
    {
      "cell_type": "code",
      "source": [
        "def test(loader):\n",
        "    model.eval()\n",
        "    fin_targets=[]\n",
        "    fin_outputs=[]\n",
        "    with torch.no_grad():\n",
        "        for _, data in enumerate(loader, 0):\n",
        "            ids = data['ids'].to(device, dtype = torch.long)\n",
        "            mask = data['mask'].to(device, dtype = torch.long)\n",
        "            token_type_ids = data['token_type_ids'].to(device, dtype = torch.long)\n",
        "            targets = data['targets'].to(device, dtype = torch.float)\n",
        "            outputs = model(ids, mask, token_type_ids)\n",
        "            fin_targets.extend(targets.cpu().detach().numpy().tolist())\n",
        "            fin_outputs.extend(torch.sigmoid(outputs).cpu().detach().numpy().tolist())\n",
        "    return fin_outputs, fin_targets"
      ],
      "metadata": {
        "id": "mVe17jftOsvY"
      },
      "execution_count": 25,
      "outputs": []
    },
    {
      "cell_type": "markdown",
      "source": [
        "## BERT BASE"
      ],
      "metadata": {
        "id": "r-Qc0RgxJ4pl"
      }
    },
    {
      "cell_type": "markdown",
      "source": [
        "### Restoring the best model\n",
        "According to the average validation loss calculated at epoch, we restored the weights of the best model saved into `model.pth`. "
      ],
      "metadata": {
        "id": "4MKBGtvmF0Q_"
      }
    },
    {
      "cell_type": "code",
      "source": [
        "# restore best model \n",
        "if MODEL_NAME == 'bert-base-uncased':\n",
        "    model = BERTClass(MODEL_NAME) if \"distilbert\" not in MODEL_NAME else DistilbertClass(MODEL_NAME)\n",
        "    model.load_state_dict(torch.load(best_weights_bert_base))\n",
        "    model = model.to(device)"
      ],
      "metadata": {
        "id": "xjRZJ1YYVeM2"
      },
      "execution_count": 26,
      "outputs": []
    },
    {
      "cell_type": "markdown",
      "source": [
        "<a id='section07'></a>\n",
        "### Evaluating the best model\n",
        "To get a measure of our model performance we are mainly taking into account\n",
        "the F1 Macro score since is the best indicator in case of unbalanced classes as the current case."
      ],
      "metadata": {
        "id": "2DOJmHwHGQq7"
      }
    },
    {
      "cell_type": "code",
      "source": [
        "if MODEL_NAME == 'bert-base-uncased':\n",
        "    outputs, targets = test()"
      ],
      "metadata": {
        "id": "wLm-bjZAbDCN"
      },
      "execution_count": 27,
      "outputs": []
    },
    {
      "cell_type": "markdown",
      "source": [
        "<a id='section08'></a>\n",
        "### Choosing the best threshold\n",
        "Since the outoput scores are probabilities values in the range [0,1] we need to define the best threshold to approximate each score either to 0 or to 1. \n",
        "To do that, we considered all possible threshold values between 0.1 and 0.85 with steps of 0.05 such that: all the values higher than or equal to the threshold are approximated to 1, otherwise to 0.\n",
        "Finally, we take the threshold value which gave us the highest F1 score."
      ],
      "metadata": {
        "id": "SU4WgzkXi3hq"
      }
    },
    {
      "cell_type": "code",
      "source": [
        "if MODEL_NAME == 'bert-base-uncased':\n",
        "    results = {}\n",
        "    for tr in np.arange(0.1, 0.9, 0.05):\n",
        "        tr = round(tr,2)\n",
        "        predictions = np.array(outputs) >= tr\n",
        "        f1 = f1_score(targets, predictions, average = \"macro\", zero_division = 1)\n",
        "        results[tr] = f1\n",
        "\n",
        "    for k,v in results.items():\n",
        "        print(\"THRESHOLD: {:.2f} \".format(k), \"F1 score: {:.3f}\".format(v))"
      ],
      "metadata": {
        "id": "WN3WxQ9hdFGY"
      },
      "execution_count": 28,
      "outputs": []
    },
    {
      "cell_type": "code",
      "source": [
        "if MODEL_NAME == 'bert-base-uncased':\n",
        "    THRESHOLD = max(results, key = results.get)\n",
        "    print(\"BEST THRESHOLD:\", THRESHOLD , \"with F1 score: {:.2f}\".format(max(results.values())))"
      ],
      "metadata": {
        "id": "OalMtIzvmY53"
      },
      "execution_count": 29,
      "outputs": []
    },
    {
      "cell_type": "markdown",
      "source": [
        "<a id='section09'></a>\n",
        "### Classification Report"
      ],
      "metadata": {
        "id": "Dtjs2xlEnZPV"
      }
    },
    {
      "cell_type": "code",
      "source": [
        "if MODEL_NAME == 'bert-base-uncased':\n",
        "    predictions = np.array(outputs) >= THRESHOLD\n",
        "    labels = labels_test.columns[1:]\n",
        "    print(classification_report(predictions, targets, target_names = labels, zero_division=1))"
      ],
      "metadata": {
        "id": "NRLbWbpZoy6W"
      },
      "execution_count": 30,
      "outputs": []
    },
    {
      "cell_type": "markdown",
      "source": [
        "## BERT LARGE"
      ],
      "metadata": {
        "id": "FjzJ-MSjKAs7"
      }
    },
    {
      "cell_type": "code",
      "source": [
        "# restore best model \n",
        "if MODEL_NAME == 'bert-large-uncased':\n",
        "    model = BERTClass(MODEL_NAME) if \"distilbert\" not in MODEL_NAME else DistilbertClass(MODEL_NAME)\n",
        "    model.load_state_dict(torch.load('model.pth'))\n",
        "    model = model.to(device)"
      ],
      "metadata": {
        "id": "f2Eek5uZK-FV"
      },
      "execution_count": 31,
      "outputs": []
    },
    {
      "cell_type": "code",
      "source": [
        "if MODEL_NAME == 'bert-large-uncased':\n",
        "    outputs, targets = test(testing_loader)"
      ],
      "metadata": {
        "id": "io2pWLj3LCcN"
      },
      "execution_count": 32,
      "outputs": []
    },
    {
      "cell_type": "code",
      "source": [
        "if MODEL_NAME == 'bert-large-uncased':\n",
        "    results = {}\n",
        "    for tr in np.arange(0.1, 0.9, 0.05):\n",
        "        tr = round(tr,2)\n",
        "        predictions = np.array(outputs) >= tr\n",
        "        f1 = f1_score(targets, predictions, average = \"macro\", zero_division = 1)\n",
        "        results[tr] = f1\n",
        "\n",
        "    for k,v in results.items():\n",
        "        print(\"THRESHOLD: {:.2f} \".format(k), \"F1 score: {:.3f}\".format(v))"
      ],
      "metadata": {
        "id": "KmizpgxFLFba"
      },
      "execution_count": 33,
      "outputs": []
    },
    {
      "cell_type": "code",
      "source": [
        "if MODEL_NAME == 'bert-large-uncased':\n",
        "    THRESHOLD = max(results, key = results.get)\n",
        "    print(\"BEST THRESHOLD:\", THRESHOLD , \"with F1 score: {:.2f}\".format(max(results.values())))"
      ],
      "metadata": {
        "id": "XHez7WI6LMDm"
      },
      "execution_count": 34,
      "outputs": []
    },
    {
      "cell_type": "code",
      "source": [
        "if MODEL_NAME == 'bert-large-uncased':\n",
        "    predictions = np.array(outputs) >= THRESHOLD\n",
        "    labels = labels_test.columns[1:]\n",
        "    print(classification_report(predictions, targets, target_names = labels, zero_division=1))"
      ],
      "metadata": {
        "id": "8t1EB259RRCW"
      },
      "execution_count": 35,
      "outputs": []
    },
    {
      "cell_type": "markdown",
      "source": [
        "## ROBERTA BASE "
      ],
      "metadata": {
        "id": "92PhwOEOL9YW"
      }
    },
    {
      "cell_type": "code",
      "source": [
        "# restore best model \n",
        "if MODEL_NAME == 'roberta-base':\n",
        "    model = BERTClass(MODEL_NAME) if \"distilbert\" not in MODEL_NAME else DistilbertClass(MODEL_NAME)\n",
        "    model.load_state_dict(torch.load(f'weights_{MODEL_NAME}.pth'))\n",
        "    model = model.to(device)"
      ],
      "metadata": {
        "id": "3971TZnuMC8X"
      },
      "execution_count": 36,
      "outputs": []
    },
    {
      "cell_type": "code",
      "source": [
        "if MODEL_NAME == 'roberta-base':\n",
        "    outputs, targets = test(testing_loader)"
      ],
      "metadata": {
        "id": "xpKgPUiJMD87"
      },
      "execution_count": 37,
      "outputs": []
    },
    {
      "cell_type": "code",
      "source": [
        "if MODEL_NAME == 'roberta-base':\n",
        "    results = {}\n",
        "    for tr in np.arange(0.1, 0.9, 0.05):\n",
        "        tr = round(tr,2)\n",
        "        predictions = np.array(outputs) >= tr\n",
        "        f1 = f1_score(targets, predictions, average = \"macro\", zero_division = 1)\n",
        "        results[tr] = f1\n",
        "\n",
        "    for k,v in results.items():\n",
        "        print(\"THRESHOLD: {:.2f} \".format(k), \"F1 score: {:.3f}\".format(v))"
      ],
      "metadata": {
        "id": "GkX2amJNMF1f"
      },
      "execution_count": 38,
      "outputs": []
    },
    {
      "cell_type": "code",
      "source": [
        "if MODEL_NAME == 'roberta-base':\n",
        "    THRESHOLD = max(results, key = results.get)\n",
        "    print(\"BEST THRESHOLD:\", THRESHOLD , \"with F1 score: {:.2f}\".format(max(results.values())))"
      ],
      "metadata": {
        "id": "h8u-WFKZMIAT"
      },
      "execution_count": 39,
      "outputs": []
    },
    {
      "cell_type": "code",
      "source": [
        "if MODEL_NAME == 'roberta-base':\n",
        "    predictions = np.array(outputs) >= THRESHOLD\n",
        "    labels = labels_test.columns[1:]\n",
        "    print(classification_report(predictions, targets, target_names = labels, zero_division=1))"
      ],
      "metadata": {
        "id": "X_8XT4hURTDQ"
      },
      "execution_count": 40,
      "outputs": []
    },
    {
      "cell_type": "markdown",
      "source": [
        "## ROBERTA LARGE"
      ],
      "metadata": {
        "id": "8sdEprw1NBhz"
      }
    },
    {
      "cell_type": "code",
      "source": [
        "# restore best model \n",
        "if MODEL_NAME == 'roberta-large':\n",
        "    model = BERTClass(MODEL_NAME) if \"distilbert\" not in MODEL_NAME else DistilbertClass(MODEL_NAME)\n",
        "    model.load_state_dict(torch.load(f'weights_{MODEL_NAME}.pth'))\n",
        "    model = model.to(device)"
      ],
      "metadata": {
        "id": "ccFOmpDWNFtQ"
      },
      "execution_count": 41,
      "outputs": []
    },
    {
      "cell_type": "code",
      "source": [
        "if MODEL_NAME == 'roberta-large':\n",
        "    outputs, targets = test(training_loader)"
      ],
      "metadata": {
        "id": "HrseZYoxNGfh"
      },
      "execution_count": 42,
      "outputs": []
    },
    {
      "cell_type": "code",
      "source": [
        "if MODEL_NAME == 'roberta-large':\n",
        "    results = {}\n",
        "    for tr in np.arange(0.1, 0.9, 0.05):\n",
        "        tr = round(tr,2)\n",
        "        predictions = np.array(outputs) >= tr\n",
        "        f1 = f1_score(targets, predictions, average = \"macro\", zero_division = 1)\n",
        "        results[tr] = f1\n",
        "\n",
        "    for k,v in results.items():\n",
        "        print(\"THRESHOLD: {:.2f} \".format(k), \"F1 score: {:.3f}\".format(v))"
      ],
      "metadata": {
        "id": "_tqfApYSNIhM"
      },
      "execution_count": 43,
      "outputs": []
    },
    {
      "cell_type": "code",
      "source": [
        "if MODEL_NAME == 'roberta-large':\n",
        "    THRESHOLD = max(results, key = results.get)\n",
        "    print(\"BEST THRESHOLD:\", THRESHOLD , \"with F1 score: {:.2f}\".format(max(results.values())))"
      ],
      "metadata": {
        "id": "Wb6gOU8fNK0V"
      },
      "execution_count": 44,
      "outputs": []
    },
    {
      "cell_type": "code",
      "source": [
        "if MODEL_NAME == 'roberta-large':\n",
        "    predictions = np.array(outputs) >= THRESHOLD\n",
        "    labels = labels_test.columns[1:]\n",
        "    print(classification_report(targets, predictions, target_names = labels, zero_division=1))"
      ],
      "metadata": {
        "id": "QLgyUXd9RUPj"
      },
      "execution_count": 45,
      "outputs": []
    },
    {
      "cell_type": "code",
      "source": [
        "if MODEL_NAME == 'roberta-large':\n",
        "    outputs, targets = test(testing_loader)"
      ],
      "metadata": {
        "id": "DQl7xlCPlxXS"
      },
      "execution_count": 46,
      "outputs": []
    },
    {
      "cell_type": "code",
      "source": [
        "if MODEL_NAME == 'roberta-large':\n",
        "    results = {}\n",
        "    for tr in np.arange(0.1, 0.9, 0.05):\n",
        "        tr = round(tr,2)\n",
        "        predictions = np.array(outputs) >= tr\n",
        "        f1 = f1_score(targets, predictions, average = \"macro\", zero_division = 1)\n",
        "        results[tr] = f1\n",
        "\n",
        "    for k,v in results.items():\n",
        "        print(\"THRESHOLD: {:.2f} \".format(k), \"F1 score: {:.3f}\".format(v))"
      ],
      "metadata": {
        "id": "xB-vOma2l1cO"
      },
      "execution_count": 47,
      "outputs": []
    },
    {
      "cell_type": "code",
      "source": [
        "if MODEL_NAME == 'roberta-large':\n",
        "    THRESHOLD = max(results, key = results.get)\n",
        "    print(\"BEST THRESHOLD:\", THRESHOLD , \"with F1 score: {:.2f}\".format(max(results.values())))"
      ],
      "metadata": {
        "id": "eAqn1DG7l3P0"
      },
      "execution_count": 48,
      "outputs": []
    },
    {
      "cell_type": "code",
      "source": [
        "if MODEL_NAME == 'roberta-large':\n",
        "    predictions = np.array(outputs) >= THRESHOLD\n",
        "    labels = labels_test.columns[1:]\n",
        "    print(classification_report(targets, predictions, target_names = labels, zero_division=1))"
      ],
      "metadata": {
        "id": "LkADaWPUl4w9"
      },
      "execution_count": 49,
      "outputs": []
    },
    {
      "cell_type": "markdown",
      "source": [
        "## DISTILBERT"
      ],
      "metadata": {
        "id": "B2LJh7_3QC4A"
      }
    },
    {
      "cell_type": "code",
      "source": [
        "# restore best model \n",
        "if MODEL_NAME == 'distilbert-base-uncased':\n",
        "    model = BERTClass(MODEL_NAME) if \"distilbert\" not in MODEL_NAME else DistilbertClass(MODEL_NAME)\n",
        "    model.load_state_dict(torch.load(f'weights_{MODEL_NAME}.pth'))\n",
        "    model = model.to(device)"
      ],
      "metadata": {
        "colab": {
          "base_uri": "https://localhost:8080/"
        },
        "id": "rfUGx_e-PtMh",
        "outputId": "40c4b017-1bbd-4d56-eb50-56599f712ea4"
      },
      "execution_count": 55,
      "outputs": [
        {
          "output_type": "stream",
          "name": "stderr",
          "text": [
            "Some weights of the model checkpoint at distilbert-base-uncased were not used when initializing DistilBertModel: ['vocab_layer_norm.bias', 'vocab_transform.weight', 'vocab_projector.bias', 'vocab_projector.weight', 'vocab_transform.bias', 'vocab_layer_norm.weight']\n",
            "- This IS expected if you are initializing DistilBertModel from the checkpoint of a model trained on another task or with another architecture (e.g. initializing a BertForSequenceClassification model from a BertForPreTraining model).\n",
            "- This IS NOT expected if you are initializing DistilBertModel from the checkpoint of a model that you expect to be exactly identical (initializing a BertForSequenceClassification model from a BertForSequenceClassification model).\n"
          ]
        }
      ]
    },
    {
      "cell_type": "code",
      "source": [
        "if MODEL_NAME == 'distilbert-base-uncased':\n",
        "    outputs, targets = test(testing_loader)"
      ],
      "metadata": {
        "id": "Iw-bz29NPvci"
      },
      "execution_count": 56,
      "outputs": []
    },
    {
      "cell_type": "code",
      "source": [
        "if MODEL_NAME == 'distilbert-base-uncased':\n",
        "    results = {}\n",
        "    for tr in np.arange(0.1, 0.9, 0.05):\n",
        "        tr = round(tr,2)\n",
        "        predictions = np.array(outputs) >= tr\n",
        "        f1 = f1_score(targets, predictions, average = \"macro\", zero_division = 1)\n",
        "        results[tr] = f1\n",
        "\n",
        "    for k,v in results.items():\n",
        "        print(\"THRESHOLD: {:.2f} \".format(k), \"F1 score: {:.3f}\".format(v))"
      ],
      "metadata": {
        "colab": {
          "base_uri": "https://localhost:8080/"
        },
        "id": "p3RWjsiqPysE",
        "outputId": "943e01cd-08a5-4e7c-c31b-fd5da39b48b9"
      },
      "execution_count": 57,
      "outputs": [
        {
          "output_type": "stream",
          "name": "stdout",
          "text": [
            "THRESHOLD: 0.10  F1 score: 0.416\n",
            "THRESHOLD: 0.15  F1 score: 0.428\n",
            "THRESHOLD: 0.20  F1 score: 0.423\n",
            "THRESHOLD: 0.25  F1 score: 0.408\n",
            "THRESHOLD: 0.30  F1 score: 0.395\n",
            "THRESHOLD: 0.35  F1 score: 0.381\n",
            "THRESHOLD: 0.40  F1 score: 0.369\n",
            "THRESHOLD: 0.45  F1 score: 0.357\n",
            "THRESHOLD: 0.50  F1 score: 0.336\n",
            "THRESHOLD: 0.55  F1 score: 0.313\n",
            "THRESHOLD: 0.60  F1 score: 0.290\n",
            "THRESHOLD: 0.65  F1 score: 0.268\n",
            "THRESHOLD: 0.70  F1 score: 0.242\n",
            "THRESHOLD: 0.75  F1 score: 0.217\n",
            "THRESHOLD: 0.80  F1 score: 0.190\n",
            "THRESHOLD: 0.85  F1 score: 0.155\n"
          ]
        }
      ]
    },
    {
      "cell_type": "code",
      "source": [
        "if MODEL_NAME == 'distilbert-base-uncased':\n",
        "    THRESHOLD = max(results, key = results.get)\n",
        "    print(\"BEST THRESHOLD:\", THRESHOLD , \"with F1 score: {:.2f}\".format(max(results.values())))"
      ],
      "metadata": {
        "colab": {
          "base_uri": "https://localhost:8080/"
        },
        "id": "_rGi_OmMPzU-",
        "outputId": "c4f643e1-ac5e-4043-c48b-9b7eeebf0ec7"
      },
      "execution_count": 58,
      "outputs": [
        {
          "output_type": "stream",
          "name": "stdout",
          "text": [
            "BEST THRESHOLD: 0.15 with F1 score: 0.43\n"
          ]
        }
      ]
    },
    {
      "cell_type": "code",
      "source": [
        "if MODEL_NAME == 'distilbert-base-uncased':\n",
        "    predictions = np.array(outputs) >= THRESHOLD\n",
        "    labels = labels_test.columns[1:]\n",
        "    print(classification_report(predictions, targets, target_names = labels, zero_division=1))"
      ],
      "metadata": {
        "colab": {
          "base_uri": "https://localhost:8080/"
        },
        "id": "oXoEkHHPRVUl",
        "outputId": "3e14231f-674e-47ac-fb59-840994459984"
      },
      "execution_count": 54,
      "outputs": [
        {
          "output_type": "stream",
          "name": "stdout",
          "text": [
            "                            precision    recall  f1-score   support\n",
            "\n",
            "   Self-direction: thought       0.72      0.34      0.46       540\n",
            "    Self-direction: action       0.77      0.39      0.52       973\n",
            "               Stimulation       0.17      0.38      0.23        60\n",
            "                  Hedonism       0.24      0.58      0.34        43\n",
            "               Achievement       0.86      0.44      0.58      1118\n",
            "          Power: dominance       0.37      0.29      0.33       207\n",
            "          Power: resources       0.83      0.34      0.48       324\n",
            "                      Face       0.14      0.28      0.18        65\n",
            "        Security: personal       0.95      0.52      0.67      1393\n",
            "        Security: societal       0.89      0.40      0.55      1096\n",
            "                 Tradition       0.45      0.38      0.41       202\n",
            "         Conformity: rules       0.86      0.37      0.51      1072\n",
            " Conformity: interpersonal       0.10      0.23      0.14        26\n",
            "                  Humility       0.11      0.15      0.13        93\n",
            "       Benevolence: caring       0.94      0.39      0.55      1523\n",
            "Benevolence: dependability       0.72      0.18      0.29      1049\n",
            "     Universalism: concern       0.97      0.42      0.59      1569\n",
            "      Universalism: nature       0.65      0.64      0.64       129\n",
            "   Universalism: tolerance       0.30      0.26      0.27       258\n",
            " Universalism: objectivity       0.73      0.35      0.47       781\n",
            "\n",
            "                 micro avg       0.76      0.38      0.51     12521\n",
            "                 macro avg       0.59      0.37      0.42     12521\n",
            "              weighted avg       0.82      0.38      0.51     12521\n",
            "               samples avg       0.79      0.39      0.50     12521\n",
            "\n"
          ]
        }
      ]
    }
  ],
  "metadata": {
    "accelerator": "GPU",
    "colab": {
      "provenance": []
    },
    "kernelspec": {
      "display_name": "Python 3.7.6 64-bit ('fastai': conda)",
      "language": "python",
      "name": "python37664bitfastaiconda149f4ca18fae45818735beadf08062d0"
    },
    "language_info": {
      "codemirror_mode": {
        "name": "ipython",
        "version": 3
      },
      "file_extension": ".py",
      "mimetype": "text/x-python",
      "name": "python",
      "nbconvert_exporter": "python",
      "pygments_lexer": "ipython3",
      "version": "3.7.7"
    }
  },
  "nbformat": 4,
  "nbformat_minor": 0
}